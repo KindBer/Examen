{
  "nbformat": 4,
  "nbformat_minor": 0,
  "metadata": {
    "colab": {
      "name": "Quiz2.ipynb",
      "provenance": [],
      "collapsed_sections": [],
      "authorship_tag": "ABX9TyNEm0U4WMDg//0cknKO+GoP",
      "include_colab_link": true
    },
    "kernelspec": {
      "name": "python3",
      "display_name": "Python 3"
    },
    "accelerator": "GPU"
  },
  "cells": [
    {
      "cell_type": "markdown",
      "metadata": {
        "id": "view-in-github",
        "colab_type": "text"
      },
      "source": [
        "<a href=\"https://colab.research.google.com/github/KindBer/Examen/blob/master/Quiz2.ipynb\" target=\"_parent\"><img src=\"https://colab.research.google.com/assets/colab-badge.svg\" alt=\"Open In Colab\"/></a>"
      ]
    },
    {
      "cell_type": "markdown",
      "metadata": {
        "id": "yjO2cxHDQ8L8",
        "colab_type": "text"
      },
      "source": [
        "# **Importing dependencies**"
      ]
    },
    {
      "cell_type": "code",
      "metadata": {
        "id": "tjVZNvg2Q7L2",
        "colab_type": "code",
        "colab": {
          "base_uri": "https://localhost:8080/",
          "height": 102
        },
        "outputId": "00e745c4-59a1-45ce-b598-91be63486e23"
      },
      "source": [
        "# Since Collab is being used, it is necessary to install Pytorch\n",
        "!pip install torch\n",
        "import torch as torch\n",
        "\n",
        "import numpy as np\n",
        "from matplotlib import pyplot as plt\n",
        "from mpl_toolkits.mplot3d import Axes3D\n",
        "from matplotlib import cm\n",
        "\n",
        "A = torch.tensor([[4.0, -5.0], [-2.0, 3.0]])\n",
        "print(A)"
      ],
      "execution_count": null,
      "outputs": [
        {
          "output_type": "stream",
          "text": [
            "Requirement already satisfied: torch in /usr/local/lib/python3.6/dist-packages (1.6.0+cu101)\n",
            "Requirement already satisfied: future in /usr/local/lib/python3.6/dist-packages (from torch) (0.16.0)\n",
            "Requirement already satisfied: numpy in /usr/local/lib/python3.6/dist-packages (from torch) (1.18.5)\n",
            "tensor([[ 4., -5.],\n",
            "        [-2.,  3.]])\n"
          ],
          "name": "stdout"
        }
      ]
    },
    {
      "cell_type": "code",
      "metadata": {
        "id": "MfEzGctARgWq",
        "colab_type": "code",
        "colab": {
          "base_uri": "https://localhost:8080/",
          "height": 357
        },
        "outputId": "db0ad17e-94b7-4d47-c650-d9ec7eb39ebc"
      },
      "source": [
        "#matrix del quiz\n",
        "A = torch.tensor([[5, 2, 7], [8, 1, 5], [3, 1, 3]])\n",
        "print(\"Valor de A: \")\n",
        "print(A)\n",
        "print(\"\\n\")\n",
        "\n",
        "def isSymmetric(B):\n",
        "    \"\"\"\n",
        "    B: input matrix\n",
        "    \"\"\"\n",
        "    Bt = B.transpose(0, 1)\n",
        "    return (torch.all(B.eq(Bt)))\n",
        "\n",
        "def isAntisymmetric(C):\n",
        "    \"\"\"\n",
        "    C: input matrix\n",
        "    \"\"\"\n",
        "    Ct = C.transpose(0, 1)\n",
        "    \n",
        "    return (torch.all(C.eq(-Ct)))\n",
        "\n",
        "#simetria\n",
        "At = A.transpose(0, 1)\n",
        "Sym = 1/2 * (A + At)\n",
        "\n",
        "#print simetria\n",
        "print(\"Symmetric: \")\n",
        "print(Sym)\n",
        "print(isSymmetric(Sym))\n",
        "print(\"\\n\")\n",
        "\n",
        "#anti-simetria\n",
        "nAt = A.transpose(0, 1)\n",
        "Asym = 1/2 * (A - nAt)\n",
        "\n",
        "#print anti-simetria\n",
        "print(\"Anti-symmetric: \")\n",
        "print(Asym)\n",
        "print(isAntisymmetric(Asym))\n",
        "print(\"\\n\")\n",
        "\n",
        "\n",
        "\n",
        "\n",
        "#isSymmetric(externalProduct2)   "
      ],
      "execution_count": null,
      "outputs": [
        {
          "output_type": "stream",
          "text": [
            "Valor de A: \n",
            "tensor([[5, 2, 7],\n",
            "        [8, 1, 5],\n",
            "        [3, 1, 3]])\n",
            "\n",
            "\n",
            "Symmetric: \n",
            "tensor([[5., 5., 5.],\n",
            "        [5., 1., 3.],\n",
            "        [5., 3., 3.]])\n",
            "tensor(True)\n",
            "\n",
            "\n",
            "Anti-symmetric: \n",
            "tensor([[ 0., -3.,  2.],\n",
            "        [ 3.,  0.,  2.],\n",
            "        [-2., -2.,  0.]])\n",
            "tensor(True)\n",
            "\n",
            "\n"
          ],
          "name": "stdout"
        }
      ]
    }
  ]
}